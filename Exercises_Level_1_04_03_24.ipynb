{
  "nbformat": 4,
  "nbformat_minor": 0,
  "metadata": {
    "colab": {
      "provenance": [],
      "authorship_tag": "ABX9TyPhpTrBpwns9xgSFB2QU+Fx",
      "include_colab_link": true
    },
    "kernelspec": {
      "name": "python3",
      "display_name": "Python 3"
    },
    "language_info": {
      "name": "python"
    }
  },
  "cells": [
    {
      "cell_type": "markdown",
      "metadata": {
        "id": "view-in-github",
        "colab_type": "text"
      },
      "source": [
        "<a href=\"https://colab.research.google.com/github/abhig1909/30-Days-Of-Python/blob/main/Exercises_Level_1_04_03_24.ipynb\" target=\"_parent\"><img src=\"https://colab.research.google.com/assets/colab-badge.svg\" alt=\"Open In Colab\"/></a>"
      ]
    },
    {
      "cell_type": "markdown",
      "source": [
        "Exercises: Level 1\n"
      ],
      "metadata": {
        "id": "f6FwCqcuncNP"
      }
    },
    {
      "cell_type": "code",
      "source": [
        "#Inside 30DaysOfPython create a folder called day_2. Inside this folder create a file named variables.py\n",
        "\n",
        "#Day 2: '30 Days of python Programming'\n",
        "\n",
        "first_name= 'Abhishek'\n",
        "last_name ='Ajay Gupta'\n",
        "Full_name= 'Abhishek Ajay Gupta'\n",
        "country_name='India'\n",
        "city= 'Noida'\n",
        "age= 24\n",
        "year = 2024\n",
        "is_married= 'NO'\n",
        "\n",
        "print(first_name , last_name , Full_name , country_name , city , age ,year, is_married )\n",
        "\n",
        "print('first name =' , first_name)\n",
        "print('last name =' , last_name)\n",
        "print('Full name =' , Full_name)\n",
        "print('country name =' , country_name)\n",
        "print('city = ', city)\n",
        "print('age = ' ,age)\n",
        "print('year=', year)\n",
        "print( 'married ' , is_married)\n",
        "\n",
        "#Level 2.\n",
        "\n",
        "print(type(first_name))\n",
        "print(type(country_name))\n",
        "print(type(age))\n",
        "print(type(year))\n",
        "print(type(is_married))\n",
        "\n",
        "#lenght function/.\n",
        "\n",
        "print(len(first_name))\n",
        "print(len(country_name))\n",
        "print(len(is_married))\n",
        "\n",
        "#Compare the length of your first name and your last name.\n",
        "\n",
        "print(len(first_name))\n",
        "print(len(last_name))\n",
        "\n",
        "if (len(first_name)) == (len(last_name)):\n",
        "  print('SAME')\n",
        "else:\n",
        "  print('NOSAME')\n",
        "\n",
        "\n",
        "\n"
      ],
      "metadata": {
        "colab": {
          "base_uri": "https://localhost:8080/"
        },
        "id": "3bOJ2AYNng_C",
        "outputId": "a4dca9ec-1344-47ef-c277-a522a8ea6650"
      },
      "execution_count": null,
      "outputs": [
        {
          "output_type": "stream",
          "name": "stdout",
          "text": [
            "Abhishek Ajay Gupta Abhishek Ajay Gupta India Noida 24 2024 NO\n",
            "first name = Abhishek\n",
            "last name = Ajay Gupta\n",
            "Full name = Abhishek Ajay Gupta\n",
            "country name = India\n",
            "city =  Noida\n",
            "age =  24\n",
            "year= 2024\n",
            "married  NO\n",
            "<class 'str'>\n",
            "<class 'str'>\n",
            "<class 'int'>\n",
            "<class 'int'>\n",
            "<class 'str'>\n",
            "8\n",
            "5\n",
            "2\n",
            "8\n",
            "10\n",
            "NOSAME\n"
          ]
        }
      ]
    },
    {
      "cell_type": "markdown",
      "source": [
        "Declare 5 as num_one and 4 as num_two\n"
      ],
      "metadata": {
        "id": "zEyWTMTIBSA9"
      }
    },
    {
      "cell_type": "code",
      "source": [
        "#Declare 5 as num_one and 4 as num_two.\n",
        "\n",
        "\n",
        "#Add num_one and num_two and assign the value to a variable total\n",
        "num_one=5\n",
        "num_two=3\n",
        "\n",
        "#total= num_one + num_two\n",
        "\n",
        "print('total =', num_one+num_two)\n",
        "\n",
        "#print(total)\n",
        "\n",
        "#Subtract num_two from num_one and assign the value to a variable diff\n",
        "\n",
        "num1=24\n",
        "num2=19\n",
        "\n",
        "print('diff= ', num1- num2)\n",
        "\n",
        "#Multiply num_two and num_one and assign the value to a variable product\n",
        "\n",
        "print('product=', num1*num2)\n",
        "\n",
        "#Divide num_one by num_two and assign the value to a variable division\n",
        "\n",
        "print('division= ', num_two / num_one)\n",
        "\n",
        "#Use modulus division to find num_two divided by num_one and assign the value to a variable remainder\n",
        "\n",
        "print('reminder = ' , num_two % num_one)\n",
        "\n",
        "\n",
        "#Calculate num_one to the power of num_two and assign the value to a variable exp\n",
        "\n",
        "print( 'variable Exp =', num_one ** num_two )\n",
        "\n",
        "#Find floor division of num_one by num_two and assign the value to a variable floor_division\n",
        "\n",
        "print('variable_floor_division = ', num_one // num_two )\n",
        "\n",
        "\n",
        "\n"
      ],
      "metadata": {
        "colab": {
          "base_uri": "https://localhost:8080/"
        },
        "id": "mDgb1znoBT8k",
        "outputId": "d70831e8-f4bf-4a35-ed8f-cdd4182fdb72"
      },
      "execution_count": null,
      "outputs": [
        {
          "output_type": "stream",
          "name": "stdout",
          "text": [
            "total = 8\n",
            "diff=  5\n",
            "product= 456\n",
            "division=  0.6\n",
            "reminder =  3\n",
            "variable Exp = 125\n",
            "variable_floor_division =  1\n"
          ]
        }
      ]
    },
    {
      "cell_type": "markdown",
      "source": [
        "The radius of a circle is 30 meters"
      ],
      "metadata": {
        "id": "zX0bnqHlgxRg"
      }
    },
    {
      "cell_type": "code",
      "source": [
        "#Calculate the area of a circle and assign the value to a variable name of area_of_circle.\n",
        "\n",
        "radius=1\n",
        "pie=3.14\n",
        "\n",
        "area_of_circle=pie*radius*radius\n",
        "\n",
        "print('area of circle =',area_of_circle )\n",
        "\n",
        "#Calculate the circumference of a circle and assign the value to a variable name of circum_of_circle.\n",
        "\n",
        "pie=3.14\n",
        "radius=12\n",
        "\n",
        "circum_of_circle =2*pie*radius\n",
        "\n",
        "print('circumferance of circle is ', circum_of_circle)\n",
        "\n",
        "\n",
        "#Take radius as user input and calculate the area.\n",
        "\n",
        "\n",
        "\n",
        "\n",
        "pie=3.14\n",
        "\n",
        "radius=(int(input('enter the number')))\n",
        "\n",
        "print(radius)\n",
        "\n",
        "area_of_circle=pie*radius*radius\n",
        "\n",
        "print('area of circle =',area_of_circle )\n",
        "\n",
        "\n",
        "\n"
      ],
      "metadata": {
        "colab": {
          "base_uri": "https://localhost:8080/"
        },
        "id": "JRSo-V2gg2_O",
        "outputId": "9f38f87f-37c4-4c08-d03f-8f5a99ef5b77"
      },
      "execution_count": 11,
      "outputs": [
        {
          "output_type": "stream",
          "name": "stdout",
          "text": [
            "area of circle = 3.14\n",
            "circumferance of circle is  75.36\n",
            "enter the number1\n",
            "1\n",
            "area of circle = 3.14\n"
          ]
        }
      ]
    },
    {
      "cell_type": "code",
      "source": [
        "#Use the built-in input function to get first name, last name, country and age from a user and store the value to their corresponding variable names\n",
        "\n",
        "#fname= Abhishek\n",
        "#lname= Gupta\n",
        "#country= India\n",
        "#age=24\n",
        "\n",
        "fname=(input('enter the first name'))\n",
        "print('first name',fname)\n",
        "\n",
        "lname=(input('enter the last name'))\n",
        "print('last name',lname)\n",
        "\n",
        "age=(int(input(\"enter the age in  number\")))\n",
        "print('age = ', age)\n",
        "\n",
        "country=(input('enter the name of your country'))\n",
        "print('country ', country)\n",
        "\n",
        "\n",
        "\n",
        "\n"
      ],
      "metadata": {
        "colab": {
          "base_uri": "https://localhost:8080/"
        },
        "id": "KQmnuh6PjDyL",
        "outputId": "5703d888-598b-44e7-cae0-7f73142e9676"
      },
      "execution_count": 17,
      "outputs": [
        {
          "output_type": "stream",
          "name": "stdout",
          "text": [
            "enter the first nameAbhishek\n",
            "first name Abhishek\n",
            "enter the last nameGupta\n",
            "last name Gupta\n",
            "enter the age in  number25\n",
            "age =  25\n",
            "enter the name of your countryIndia\n",
            "country  India\n"
          ]
        }
      ]
    },
    {
      "cell_type": "code",
      "source": [],
      "metadata": {
        "id": "uW4lb5NQrRs2"
      },
      "execution_count": null,
      "outputs": []
    }
  ]
}